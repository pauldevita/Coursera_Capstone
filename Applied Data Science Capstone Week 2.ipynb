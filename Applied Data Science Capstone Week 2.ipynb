{
    "cells": [
        {
            "cell_type": "markdown",
            "metadata": {},
            "source": "Problem Description\n\nTravelling in and around Seatle City is not unlike any situation travelling around any city or on any public raodway.  When traffic stops or backs up for miles, drivers are often wondering how long it will take to clear and if an alternate route should be found.  Modern vehicles with modern GPS systems use Predictive Traffic feature which gives the driver an understanding of of the traffic patterns and possible delays using real time traffic monitoring and integrated navigation to find a more efficinet route in th event of an accident or slowdown.  In this analysis I want to use the shared sample data set to predict the severity of an accident.  This could be used to feed such a system or an electronic highway sign to re-route traffic in the case of a severe accident or fatality.\n\nData Desciption\n\nI plan to use the share data set example of Seattle City for my analysis.  The data requires balancing, pre-processing and cleaning before it can be used to train and test the model.  The model will use the severity code as the target label and the rest of the labels, as determined by pre-processing and exploratory analysis, will be used as predictors.  The following is a preliminary download and exploration of the data set."
        },
        {
            "cell_type": "code",
            "execution_count": 2,
            "metadata": {},
            "outputs": [],
            "source": "# Importing the necessary tools for the preliminary exploration of the data."
        },
        {
            "cell_type": "code",
            "execution_count": 3,
            "metadata": {},
            "outputs": [],
            "source": "import pandas as pd\nimport numpy as np\nimport matplotlib.pyplot as plt\nimport seaborn as sns\n%matplotlib inline "
        },
        {
            "cell_type": "code",
            "execution_count": 4,
            "metadata": {},
            "outputs": [],
            "source": "# Downloading the sample data set"
        },
        {
            "cell_type": "code",
            "execution_count": 5,
            "metadata": {},
            "outputs": [
                {
                    "name": "stdout",
                    "output_type": "stream",
                    "text": "--2020-09-14 16:54:29--  https://s3.us.cloud-object-storage.appdomain.cloud/cf-courses-data/CognitiveClass/DP0701EN/version-2/Data-Collisions.csv\nResolving s3.us.cloud-object-storage.appdomain.cloud (s3.us.cloud-object-storage.appdomain.cloud)... 67.228.254.196\nConnecting to s3.us.cloud-object-storage.appdomain.cloud (s3.us.cloud-object-storage.appdomain.cloud)|67.228.254.196|:443... connected.\nHTTP request sent, awaiting response... 200 OK\nLength: 73917638 (70M) [text/csv]\nSaving to: \u2018Data-Collisions.csv\u2019\n\n100%[======================================>] 73,917,638  45.6MB/s   in 1.5s   \n\n2020-09-14 16:54:31 (45.6 MB/s) - \u2018Data-Collisions.csv\u2019 saved [73917638/73917638]\n\nDownload Completed!\n"
                }
            ],
            "source": "!wget -O Data-Collisions.csv https://s3.us.cloud-object-storage.appdomain.cloud/cf-courses-data/CognitiveClass/DP0701EN/version-2/Data-Collisions.csv\nprint('Download Completed!')"
        },
        {
            "cell_type": "code",
            "execution_count": 6,
            "metadata": {},
            "outputs": [],
            "source": "# Initial look at the columns and label types"
        },
        {
            "cell_type": "code",
            "execution_count": 7,
            "metadata": {},
            "outputs": [
                {
                    "name": "stderr",
                    "output_type": "stream",
                    "text": "/opt/conda/envs/Python36/lib/python3.6/site-packages/IPython/core/interactiveshell.py:3020: DtypeWarning: Columns (33) have mixed types. Specify dtype option on import or set low_memory=False.\n  interactivity=interactivity, compiler=compiler, result=result)\n"
                },
                {
                    "data": {
                        "text/html": "<div>\n<style scoped>\n    .dataframe tbody tr th:only-of-type {\n        vertical-align: middle;\n    }\n\n    .dataframe tbody tr th {\n        vertical-align: top;\n    }\n\n    .dataframe thead th {\n        text-align: right;\n    }\n</style>\n<table border=\"1\" class=\"dataframe\">\n  <thead>\n    <tr style=\"text-align: right;\">\n      <th></th>\n      <th>SEVERITYCODE</th>\n      <th>X</th>\n      <th>Y</th>\n      <th>OBJECTID</th>\n      <th>INCKEY</th>\n      <th>COLDETKEY</th>\n      <th>REPORTNO</th>\n      <th>STATUS</th>\n      <th>ADDRTYPE</th>\n      <th>INTKEY</th>\n      <th>...</th>\n      <th>ROADCOND</th>\n      <th>LIGHTCOND</th>\n      <th>PEDROWNOTGRNT</th>\n      <th>SDOTCOLNUM</th>\n      <th>SPEEDING</th>\n      <th>ST_COLCODE</th>\n      <th>ST_COLDESC</th>\n      <th>SEGLANEKEY</th>\n      <th>CROSSWALKKEY</th>\n      <th>HITPARKEDCAR</th>\n    </tr>\n  </thead>\n  <tbody>\n    <tr>\n      <th>0</th>\n      <td>2</td>\n      <td>-122.323148</td>\n      <td>47.703140</td>\n      <td>1</td>\n      <td>1307</td>\n      <td>1307</td>\n      <td>3502005</td>\n      <td>Matched</td>\n      <td>Intersection</td>\n      <td>37475.0</td>\n      <td>...</td>\n      <td>Wet</td>\n      <td>Daylight</td>\n      <td>NaN</td>\n      <td>NaN</td>\n      <td>NaN</td>\n      <td>10</td>\n      <td>Entering at angle</td>\n      <td>0</td>\n      <td>0</td>\n      <td>N</td>\n    </tr>\n    <tr>\n      <th>1</th>\n      <td>1</td>\n      <td>-122.347294</td>\n      <td>47.647172</td>\n      <td>2</td>\n      <td>52200</td>\n      <td>52200</td>\n      <td>2607959</td>\n      <td>Matched</td>\n      <td>Block</td>\n      <td>NaN</td>\n      <td>...</td>\n      <td>Wet</td>\n      <td>Dark - Street Lights On</td>\n      <td>NaN</td>\n      <td>6354039.0</td>\n      <td>NaN</td>\n      <td>11</td>\n      <td>From same direction - both going straight - bo...</td>\n      <td>0</td>\n      <td>0</td>\n      <td>N</td>\n    </tr>\n    <tr>\n      <th>2</th>\n      <td>1</td>\n      <td>-122.334540</td>\n      <td>47.607871</td>\n      <td>3</td>\n      <td>26700</td>\n      <td>26700</td>\n      <td>1482393</td>\n      <td>Matched</td>\n      <td>Block</td>\n      <td>NaN</td>\n      <td>...</td>\n      <td>Dry</td>\n      <td>Daylight</td>\n      <td>NaN</td>\n      <td>4323031.0</td>\n      <td>NaN</td>\n      <td>32</td>\n      <td>One parked--one moving</td>\n      <td>0</td>\n      <td>0</td>\n      <td>N</td>\n    </tr>\n    <tr>\n      <th>3</th>\n      <td>1</td>\n      <td>-122.334803</td>\n      <td>47.604803</td>\n      <td>4</td>\n      <td>1144</td>\n      <td>1144</td>\n      <td>3503937</td>\n      <td>Matched</td>\n      <td>Block</td>\n      <td>NaN</td>\n      <td>...</td>\n      <td>Dry</td>\n      <td>Daylight</td>\n      <td>NaN</td>\n      <td>NaN</td>\n      <td>NaN</td>\n      <td>23</td>\n      <td>From same direction - all others</td>\n      <td>0</td>\n      <td>0</td>\n      <td>N</td>\n    </tr>\n    <tr>\n      <th>4</th>\n      <td>2</td>\n      <td>-122.306426</td>\n      <td>47.545739</td>\n      <td>5</td>\n      <td>17700</td>\n      <td>17700</td>\n      <td>1807429</td>\n      <td>Matched</td>\n      <td>Intersection</td>\n      <td>34387.0</td>\n      <td>...</td>\n      <td>Wet</td>\n      <td>Daylight</td>\n      <td>NaN</td>\n      <td>4028032.0</td>\n      <td>NaN</td>\n      <td>10</td>\n      <td>Entering at angle</td>\n      <td>0</td>\n      <td>0</td>\n      <td>N</td>\n    </tr>\n  </tbody>\n</table>\n<p>5 rows \u00d7 38 columns</p>\n</div>",
                        "text/plain": "   SEVERITYCODE           X          Y  OBJECTID  INCKEY  COLDETKEY REPORTNO  \\\n0             2 -122.323148  47.703140         1    1307       1307  3502005   \n1             1 -122.347294  47.647172         2   52200      52200  2607959   \n2             1 -122.334540  47.607871         3   26700      26700  1482393   \n3             1 -122.334803  47.604803         4    1144       1144  3503937   \n4             2 -122.306426  47.545739         5   17700      17700  1807429   \n\n    STATUS      ADDRTYPE   INTKEY  ... ROADCOND                LIGHTCOND  \\\n0  Matched  Intersection  37475.0  ...      Wet                 Daylight   \n1  Matched         Block      NaN  ...      Wet  Dark - Street Lights On   \n2  Matched         Block      NaN  ...      Dry                 Daylight   \n3  Matched         Block      NaN  ...      Dry                 Daylight   \n4  Matched  Intersection  34387.0  ...      Wet                 Daylight   \n\n  PEDROWNOTGRNT  SDOTCOLNUM SPEEDING ST_COLCODE  \\\n0           NaN         NaN      NaN         10   \n1           NaN   6354039.0      NaN         11   \n2           NaN   4323031.0      NaN         32   \n3           NaN         NaN      NaN         23   \n4           NaN   4028032.0      NaN         10   \n\n                                          ST_COLDESC  SEGLANEKEY  \\\n0                                  Entering at angle           0   \n1  From same direction - both going straight - bo...           0   \n2                             One parked--one moving           0   \n3                   From same direction - all others           0   \n4                                  Entering at angle           0   \n\n   CROSSWALKKEY  HITPARKEDCAR  \n0             0             N  \n1             0             N  \n2             0             N  \n3             0             N  \n4             0             N  \n\n[5 rows x 38 columns]"
                    },
                    "execution_count": 7,
                    "metadata": {},
                    "output_type": "execute_result"
                }
            ],
            "source": "df = pd.read_csv('Data-Collisions.csv')\ndf.head()"
        },
        {
            "cell_type": "code",
            "execution_count": 8,
            "metadata": {},
            "outputs": [],
            "source": "# determining if the data set has enough rows for analysis"
        },
        {
            "cell_type": "code",
            "execution_count": 9,
            "metadata": {},
            "outputs": [
                {
                    "data": {
                        "text/plain": "(194673, 38)"
                    },
                    "execution_count": 9,
                    "metadata": {},
                    "output_type": "execute_result"
                }
            ],
            "source": "df.shape"
        },
        {
            "cell_type": "code",
            "execution_count": 10,
            "metadata": {},
            "outputs": [],
            "source": "# Determining missing data"
        },
        {
            "cell_type": "code",
            "execution_count": 11,
            "metadata": {
                "scrolled": true
            },
            "outputs": [
                {
                    "data": {
                        "text/html": "<div>\n<style scoped>\n    .dataframe tbody tr th:only-of-type {\n        vertical-align: middle;\n    }\n\n    .dataframe tbody tr th {\n        vertical-align: top;\n    }\n\n    .dataframe thead th {\n        text-align: right;\n    }\n</style>\n<table border=\"1\" class=\"dataframe\">\n  <thead>\n    <tr style=\"text-align: right;\">\n      <th></th>\n      <th>SEVERITYCODE</th>\n      <th>X</th>\n      <th>Y</th>\n      <th>OBJECTID</th>\n      <th>INCKEY</th>\n      <th>COLDETKEY</th>\n      <th>REPORTNO</th>\n      <th>STATUS</th>\n      <th>ADDRTYPE</th>\n      <th>INTKEY</th>\n      <th>...</th>\n      <th>ROADCOND</th>\n      <th>LIGHTCOND</th>\n      <th>PEDROWNOTGRNT</th>\n      <th>SDOTCOLNUM</th>\n      <th>SPEEDING</th>\n      <th>ST_COLCODE</th>\n      <th>ST_COLDESC</th>\n      <th>SEGLANEKEY</th>\n      <th>CROSSWALKKEY</th>\n      <th>HITPARKEDCAR</th>\n    </tr>\n  </thead>\n  <tbody>\n    <tr>\n      <th>0</th>\n      <td>False</td>\n      <td>False</td>\n      <td>False</td>\n      <td>False</td>\n      <td>False</td>\n      <td>False</td>\n      <td>False</td>\n      <td>False</td>\n      <td>False</td>\n      <td>False</td>\n      <td>...</td>\n      <td>False</td>\n      <td>False</td>\n      <td>True</td>\n      <td>True</td>\n      <td>True</td>\n      <td>False</td>\n      <td>False</td>\n      <td>False</td>\n      <td>False</td>\n      <td>False</td>\n    </tr>\n    <tr>\n      <th>1</th>\n      <td>False</td>\n      <td>False</td>\n      <td>False</td>\n      <td>False</td>\n      <td>False</td>\n      <td>False</td>\n      <td>False</td>\n      <td>False</td>\n      <td>False</td>\n      <td>True</td>\n      <td>...</td>\n      <td>False</td>\n      <td>False</td>\n      <td>True</td>\n      <td>False</td>\n      <td>True</td>\n      <td>False</td>\n      <td>False</td>\n      <td>False</td>\n      <td>False</td>\n      <td>False</td>\n    </tr>\n    <tr>\n      <th>2</th>\n      <td>False</td>\n      <td>False</td>\n      <td>False</td>\n      <td>False</td>\n      <td>False</td>\n      <td>False</td>\n      <td>False</td>\n      <td>False</td>\n      <td>False</td>\n      <td>True</td>\n      <td>...</td>\n      <td>False</td>\n      <td>False</td>\n      <td>True</td>\n      <td>False</td>\n      <td>True</td>\n      <td>False</td>\n      <td>False</td>\n      <td>False</td>\n      <td>False</td>\n      <td>False</td>\n    </tr>\n    <tr>\n      <th>3</th>\n      <td>False</td>\n      <td>False</td>\n      <td>False</td>\n      <td>False</td>\n      <td>False</td>\n      <td>False</td>\n      <td>False</td>\n      <td>False</td>\n      <td>False</td>\n      <td>True</td>\n      <td>...</td>\n      <td>False</td>\n      <td>False</td>\n      <td>True</td>\n      <td>True</td>\n      <td>True</td>\n      <td>False</td>\n      <td>False</td>\n      <td>False</td>\n      <td>False</td>\n      <td>False</td>\n    </tr>\n    <tr>\n      <th>4</th>\n      <td>False</td>\n      <td>False</td>\n      <td>False</td>\n      <td>False</td>\n      <td>False</td>\n      <td>False</td>\n      <td>False</td>\n      <td>False</td>\n      <td>False</td>\n      <td>False</td>\n      <td>...</td>\n      <td>False</td>\n      <td>False</td>\n      <td>True</td>\n      <td>False</td>\n      <td>True</td>\n      <td>False</td>\n      <td>False</td>\n      <td>False</td>\n      <td>False</td>\n      <td>False</td>\n    </tr>\n  </tbody>\n</table>\n<p>5 rows \u00d7 38 columns</p>\n</div>",
                        "text/plain": "   SEVERITYCODE      X      Y  OBJECTID  INCKEY  COLDETKEY  REPORTNO  STATUS  \\\n0         False  False  False     False   False      False     False   False   \n1         False  False  False     False   False      False     False   False   \n2         False  False  False     False   False      False     False   False   \n3         False  False  False     False   False      False     False   False   \n4         False  False  False     False   False      False     False   False   \n\n   ADDRTYPE  INTKEY  ...  ROADCOND  LIGHTCOND  PEDROWNOTGRNT  SDOTCOLNUM  \\\n0     False   False  ...     False      False           True        True   \n1     False    True  ...     False      False           True       False   \n2     False    True  ...     False      False           True       False   \n3     False    True  ...     False      False           True        True   \n4     False   False  ...     False      False           True       False   \n\n   SPEEDING  ST_COLCODE  ST_COLDESC  SEGLANEKEY  CROSSWALKKEY  HITPARKEDCAR  \n0      True       False       False       False         False         False  \n1      True       False       False       False         False         False  \n2      True       False       False       False         False         False  \n3      True       False       False       False         False         False  \n4      True       False       False       False         False         False  \n\n[5 rows x 38 columns]"
                    },
                    "execution_count": 11,
                    "metadata": {},
                    "output_type": "execute_result"
                }
            ],
            "source": "missing_data = df.isnull()\nmissing_data.head(5)"
        },
        {
            "cell_type": "code",
            "execution_count": 12,
            "metadata": {},
            "outputs": [
                {
                    "name": "stdout",
                    "output_type": "stream",
                    "text": "SEVERITYCODE\nFalse    194673\nName: SEVERITYCODE, dtype: int64\n\nX\nFalse    189339\nTrue       5334\nName: X, dtype: int64\n\nY\nFalse    189339\nTrue       5334\nName: Y, dtype: int64\n\nOBJECTID\nFalse    194673\nName: OBJECTID, dtype: int64\n\nINCKEY\nFalse    194673\nName: INCKEY, dtype: int64\n\nCOLDETKEY\nFalse    194673\nName: COLDETKEY, dtype: int64\n\nREPORTNO\nFalse    194673\nName: REPORTNO, dtype: int64\n\nSTATUS\nFalse    194673\nName: STATUS, dtype: int64\n\nADDRTYPE\nFalse    192747\nTrue       1926\nName: ADDRTYPE, dtype: int64\n\nINTKEY\nTrue     129603\nFalse     65070\nName: INTKEY, dtype: int64\n\nLOCATION\nFalse    191996\nTrue       2677\nName: LOCATION, dtype: int64\n\nEXCEPTRSNCODE\nTrue     109862\nFalse     84811\nName: EXCEPTRSNCODE, dtype: int64\n\nEXCEPTRSNDESC\nTrue     189035\nFalse      5638\nName: EXCEPTRSNDESC, dtype: int64\n\nSEVERITYCODE.1\nFalse    194673\nName: SEVERITYCODE.1, dtype: int64\n\nSEVERITYDESC\nFalse    194673\nName: SEVERITYDESC, dtype: int64\n\nCOLLISIONTYPE\nFalse    189769\nTrue       4904\nName: COLLISIONTYPE, dtype: int64\n\nPERSONCOUNT\nFalse    194673\nName: PERSONCOUNT, dtype: int64\n\nPEDCOUNT\nFalse    194673\nName: PEDCOUNT, dtype: int64\n\nPEDCYLCOUNT\nFalse    194673\nName: PEDCYLCOUNT, dtype: int64\n\nVEHCOUNT\nFalse    194673\nName: VEHCOUNT, dtype: int64\n\nINCDATE\nFalse    194673\nName: INCDATE, dtype: int64\n\nINCDTTM\nFalse    194673\nName: INCDTTM, dtype: int64\n\nJUNCTIONTYPE\nFalse    188344\nTrue       6329\nName: JUNCTIONTYPE, dtype: int64\n\nSDOT_COLCODE\nFalse    194673\nName: SDOT_COLCODE, dtype: int64\n\nSDOT_COLDESC\nFalse    194673\nName: SDOT_COLDESC, dtype: int64\n\nINATTENTIONIND\nTrue     164868\nFalse     29805\nName: INATTENTIONIND, dtype: int64\n\nUNDERINFL\nFalse    189789\nTrue       4884\nName: UNDERINFL, dtype: int64\n\nWEATHER\nFalse    189592\nTrue       5081\nName: WEATHER, dtype: int64\n\nROADCOND\nFalse    189661\nTrue       5012\nName: ROADCOND, dtype: int64\n\nLIGHTCOND\nFalse    189503\nTrue       5170\nName: LIGHTCOND, dtype: int64\n\nPEDROWNOTGRNT\nTrue     190006\nFalse      4667\nName: PEDROWNOTGRNT, dtype: int64\n\nSDOTCOLNUM\nFalse    114936\nTrue      79737\nName: SDOTCOLNUM, dtype: int64\n\nSPEEDING\nTrue     185340\nFalse      9333\nName: SPEEDING, dtype: int64\n\nST_COLCODE\nFalse    194655\nTrue         18\nName: ST_COLCODE, dtype: int64\n\nST_COLDESC\nFalse    189769\nTrue       4904\nName: ST_COLDESC, dtype: int64\n\nSEGLANEKEY\nFalse    194673\nName: SEGLANEKEY, dtype: int64\n\nCROSSWALKKEY\nFalse    194673\nName: CROSSWALKKEY, dtype: int64\n\nHITPARKEDCAR\nFalse    194673\nName: HITPARKEDCAR, dtype: int64\n\n"
                }
            ],
            "source": "for column in missing_data.columns.values.tolist():\n    print(column)\n    print (missing_data[column].value_counts())\n    print(\"\")    "
        },
        {
            "cell_type": "code",
            "execution_count": 13,
            "metadata": {},
            "outputs": [],
            "source": "# Determimng data types for potential mis-matches"
        },
        {
            "cell_type": "code",
            "execution_count": 14,
            "metadata": {},
            "outputs": [
                {
                    "data": {
                        "text/plain": "SEVERITYCODE        int64\nX                 float64\nY                 float64\nOBJECTID            int64\nINCKEY              int64\nCOLDETKEY           int64\nREPORTNO           object\nSTATUS             object\nADDRTYPE           object\nINTKEY            float64\nLOCATION           object\nEXCEPTRSNCODE      object\nEXCEPTRSNDESC      object\nSEVERITYCODE.1      int64\nSEVERITYDESC       object\nCOLLISIONTYPE      object\nPERSONCOUNT         int64\nPEDCOUNT            int64\nPEDCYLCOUNT         int64\nVEHCOUNT            int64\nINCDATE            object\nINCDTTM            object\nJUNCTIONTYPE       object\nSDOT_COLCODE        int64\nSDOT_COLDESC       object\nINATTENTIONIND     object\nUNDERINFL          object\nWEATHER            object\nROADCOND           object\nLIGHTCOND          object\nPEDROWNOTGRNT      object\nSDOTCOLNUM        float64\nSPEEDING           object\nST_COLCODE         object\nST_COLDESC         object\nSEGLANEKEY          int64\nCROSSWALKKEY        int64\nHITPARKEDCAR       object\ndtype: object"
                    },
                    "execution_count": 14,
                    "metadata": {},
                    "output_type": "execute_result"
                }
            ],
            "source": "df.dtypes"
        },
        {
            "cell_type": "code",
            "execution_count": 15,
            "metadata": {},
            "outputs": [],
            "source": "# The following block of code is used for iteratively for labels from above to determine the counts of each type"
        },
        {
            "cell_type": "code",
            "execution_count": 16,
            "metadata": {},
            "outputs": [
                {
                    "data": {
                        "text/plain": "Block           126926\nIntersection     65070\nAlley              751\nName: ADDRTYPE, dtype: int64"
                    },
                    "execution_count": 16,
                    "metadata": {},
                    "output_type": "execute_result"
                }
            ],
            "source": "df['ADDRTYPE'].value_counts()"
        },
        {
            "cell_type": "code",
            "execution_count": 17,
            "metadata": {},
            "outputs": [],
            "source": "# Code below is to determine balancing requirements of potential labels identified above"
        },
        {
            "cell_type": "code",
            "execution_count": 18,
            "metadata": {},
            "outputs": [
                {
                    "name": "stdout",
                    "output_type": "stream",
                    "text": "<class 'pandas.core.frame.DataFrame'>\nRangeIndex: 194673 entries, 0 to 194672\nData columns (total 38 columns):\nSEVERITYCODE      194673 non-null int64\nX                 189339 non-null float64\nY                 189339 non-null float64\nOBJECTID          194673 non-null int64\nINCKEY            194673 non-null int64\nCOLDETKEY         194673 non-null int64\nREPORTNO          194673 non-null object\nSTATUS            194673 non-null object\nADDRTYPE          192747 non-null object\nINTKEY            65070 non-null float64\nLOCATION          191996 non-null object\nEXCEPTRSNCODE     84811 non-null object\nEXCEPTRSNDESC     5638 non-null object\nSEVERITYCODE.1    194673 non-null int64\nSEVERITYDESC      194673 non-null object\nCOLLISIONTYPE     189769 non-null object\nPERSONCOUNT       194673 non-null int64\nPEDCOUNT          194673 non-null int64\nPEDCYLCOUNT       194673 non-null int64\nVEHCOUNT          194673 non-null int64\nINCDATE           194673 non-null object\nINCDTTM           194673 non-null object\nJUNCTIONTYPE      188344 non-null object\nSDOT_COLCODE      194673 non-null int64\nSDOT_COLDESC      194673 non-null object\nINATTENTIONIND    29805 non-null object\nUNDERINFL         189789 non-null object\nWEATHER           189592 non-null object\nROADCOND          189661 non-null object\nLIGHTCOND         189503 non-null object\nPEDROWNOTGRNT     4667 non-null object\nSDOTCOLNUM        114936 non-null float64\nSPEEDING          9333 non-null object\nST_COLCODE        194655 non-null object\nST_COLDESC        189769 non-null object\nSEGLANEKEY        194673 non-null int64\nCROSSWALKKEY      194673 non-null int64\nHITPARKEDCAR      194673 non-null object\ndtypes: float64(4), int64(12), object(22)\nmemory usage: 56.4+ MB\n"
                }
            ],
            "source": "df.info()"
        },
        {
            "cell_type": "code",
            "execution_count": 19,
            "metadata": {},
            "outputs": [],
            "source": "# Dropping of some of the label determined as non essential to the analysis (some may be added back at a later time)"
        },
        {
            "cell_type": "code",
            "execution_count": 20,
            "metadata": {},
            "outputs": [],
            "source": "df.drop(['X','Y','OBJECTID','INCKEY','COLDETKEY','REPORTNO','STATUS','INTKEY','LOCATION','EXCEPTRSNCODE','EXCEPTRSNDESC','SEVERITYCODE.1','PEDROWNOTGRNT','INCDATE','SDOTCOLNUM','ST_COLDESC','UNDERINFL','SDOT_COLDESC','INATTENTIONIND','INCDTTM'], axis=1, inplace=True)"
        },
        {
            "cell_type": "code",
            "execution_count": 21,
            "metadata": {},
            "outputs": [],
            "source": "# Another look at the data"
        },
        {
            "cell_type": "code",
            "execution_count": 22,
            "metadata": {},
            "outputs": [
                {
                    "data": {
                        "text/html": "<div>\n<style scoped>\n    .dataframe tbody tr th:only-of-type {\n        vertical-align: middle;\n    }\n\n    .dataframe tbody tr th {\n        vertical-align: top;\n    }\n\n    .dataframe thead th {\n        text-align: right;\n    }\n</style>\n<table border=\"1\" class=\"dataframe\">\n  <thead>\n    <tr style=\"text-align: right;\">\n      <th></th>\n      <th>SEVERITYCODE</th>\n      <th>ADDRTYPE</th>\n      <th>SEVERITYDESC</th>\n      <th>COLLISIONTYPE</th>\n      <th>PERSONCOUNT</th>\n      <th>PEDCOUNT</th>\n      <th>PEDCYLCOUNT</th>\n      <th>VEHCOUNT</th>\n      <th>JUNCTIONTYPE</th>\n      <th>SDOT_COLCODE</th>\n      <th>WEATHER</th>\n      <th>ROADCOND</th>\n      <th>LIGHTCOND</th>\n      <th>SPEEDING</th>\n      <th>ST_COLCODE</th>\n      <th>SEGLANEKEY</th>\n      <th>CROSSWALKKEY</th>\n      <th>HITPARKEDCAR</th>\n    </tr>\n  </thead>\n  <tbody>\n    <tr>\n      <th>0</th>\n      <td>2</td>\n      <td>Intersection</td>\n      <td>Injury Collision</td>\n      <td>Angles</td>\n      <td>2</td>\n      <td>0</td>\n      <td>0</td>\n      <td>2</td>\n      <td>At Intersection (intersection related)</td>\n      <td>11</td>\n      <td>Overcast</td>\n      <td>Wet</td>\n      <td>Daylight</td>\n      <td>NaN</td>\n      <td>10</td>\n      <td>0</td>\n      <td>0</td>\n      <td>N</td>\n    </tr>\n    <tr>\n      <th>1</th>\n      <td>1</td>\n      <td>Block</td>\n      <td>Property Damage Only Collision</td>\n      <td>Sideswipe</td>\n      <td>2</td>\n      <td>0</td>\n      <td>0</td>\n      <td>2</td>\n      <td>Mid-Block (not related to intersection)</td>\n      <td>16</td>\n      <td>Raining</td>\n      <td>Wet</td>\n      <td>Dark - Street Lights On</td>\n      <td>NaN</td>\n      <td>11</td>\n      <td>0</td>\n      <td>0</td>\n      <td>N</td>\n    </tr>\n    <tr>\n      <th>2</th>\n      <td>1</td>\n      <td>Block</td>\n      <td>Property Damage Only Collision</td>\n      <td>Parked Car</td>\n      <td>4</td>\n      <td>0</td>\n      <td>0</td>\n      <td>3</td>\n      <td>Mid-Block (not related to intersection)</td>\n      <td>14</td>\n      <td>Overcast</td>\n      <td>Dry</td>\n      <td>Daylight</td>\n      <td>NaN</td>\n      <td>32</td>\n      <td>0</td>\n      <td>0</td>\n      <td>N</td>\n    </tr>\n    <tr>\n      <th>3</th>\n      <td>1</td>\n      <td>Block</td>\n      <td>Property Damage Only Collision</td>\n      <td>Other</td>\n      <td>3</td>\n      <td>0</td>\n      <td>0</td>\n      <td>3</td>\n      <td>Mid-Block (not related to intersection)</td>\n      <td>11</td>\n      <td>Clear</td>\n      <td>Dry</td>\n      <td>Daylight</td>\n      <td>NaN</td>\n      <td>23</td>\n      <td>0</td>\n      <td>0</td>\n      <td>N</td>\n    </tr>\n    <tr>\n      <th>4</th>\n      <td>2</td>\n      <td>Intersection</td>\n      <td>Injury Collision</td>\n      <td>Angles</td>\n      <td>2</td>\n      <td>0</td>\n      <td>0</td>\n      <td>2</td>\n      <td>At Intersection (intersection related)</td>\n      <td>11</td>\n      <td>Raining</td>\n      <td>Wet</td>\n      <td>Daylight</td>\n      <td>NaN</td>\n      <td>10</td>\n      <td>0</td>\n      <td>0</td>\n      <td>N</td>\n    </tr>\n  </tbody>\n</table>\n</div>",
                        "text/plain": "   SEVERITYCODE      ADDRTYPE                    SEVERITYDESC COLLISIONTYPE  \\\n0             2  Intersection                Injury Collision        Angles   \n1             1         Block  Property Damage Only Collision     Sideswipe   \n2             1         Block  Property Damage Only Collision    Parked Car   \n3             1         Block  Property Damage Only Collision         Other   \n4             2  Intersection                Injury Collision        Angles   \n\n   PERSONCOUNT  PEDCOUNT  PEDCYLCOUNT  VEHCOUNT  \\\n0            2         0            0         2   \n1            2         0            0         2   \n2            4         0            0         3   \n3            3         0            0         3   \n4            2         0            0         2   \n\n                              JUNCTIONTYPE  SDOT_COLCODE   WEATHER ROADCOND  \\\n0   At Intersection (intersection related)            11  Overcast      Wet   \n1  Mid-Block (not related to intersection)            16   Raining      Wet   \n2  Mid-Block (not related to intersection)            14  Overcast      Dry   \n3  Mid-Block (not related to intersection)            11     Clear      Dry   \n4   At Intersection (intersection related)            11   Raining      Wet   \n\n                 LIGHTCOND SPEEDING ST_COLCODE  SEGLANEKEY  CROSSWALKKEY  \\\n0                 Daylight      NaN         10           0             0   \n1  Dark - Street Lights On      NaN         11           0             0   \n2                 Daylight      NaN         32           0             0   \n3                 Daylight      NaN         23           0             0   \n4                 Daylight      NaN         10           0             0   \n\n  HITPARKEDCAR  \n0            N  \n1            N  \n2            N  \n3            N  \n4            N  "
                    },
                    "execution_count": 22,
                    "metadata": {},
                    "output_type": "execute_result"
                }
            ],
            "source": "df.head()"
        },
        {
            "cell_type": "code",
            "execution_count": 23,
            "metadata": {},
            "outputs": [],
            "source": "# Value counts below are used iteratively as a guide to replacing object type to int. in the code several lines below"
        },
        {
            "cell_type": "code",
            "execution_count": 24,
            "metadata": {},
            "outputs": [],
            "source": "test_count=df['JUNCTIONTYPE'].value_counts().to_frame()"
        },
        {
            "cell_type": "code",
            "execution_count": 25,
            "metadata": {},
            "outputs": [
                {
                    "data": {
                        "text/html": "<div>\n<style scoped>\n    .dataframe tbody tr th:only-of-type {\n        vertical-align: middle;\n    }\n\n    .dataframe tbody tr th {\n        vertical-align: top;\n    }\n\n    .dataframe thead th {\n        text-align: right;\n    }\n</style>\n<table border=\"1\" class=\"dataframe\">\n  <thead>\n    <tr style=\"text-align: right;\">\n      <th></th>\n      <th>JUNCTIONTYPE</th>\n    </tr>\n  </thead>\n  <tbody>\n    <tr>\n      <th>Mid-Block (not related to intersection)</th>\n      <td>89800</td>\n    </tr>\n    <tr>\n      <th>At Intersection (intersection related)</th>\n      <td>62810</td>\n    </tr>\n    <tr>\n      <th>Mid-Block (but intersection related)</th>\n      <td>22790</td>\n    </tr>\n    <tr>\n      <th>Driveway Junction</th>\n      <td>10671</td>\n    </tr>\n    <tr>\n      <th>At Intersection (but not related to intersection)</th>\n      <td>2098</td>\n    </tr>\n    <tr>\n      <th>Ramp Junction</th>\n      <td>166</td>\n    </tr>\n    <tr>\n      <th>Unknown</th>\n      <td>9</td>\n    </tr>\n  </tbody>\n</table>\n</div>",
                        "text/plain": "                                                   JUNCTIONTYPE\nMid-Block (not related to intersection)                   89800\nAt Intersection (intersection related)                    62810\nMid-Block (but intersection related)                      22790\nDriveway Junction                                         10671\nAt Intersection (but not related to intersection)          2098\nRamp Junction                                               166\nUnknown                                                       9"
                    },
                    "execution_count": 25,
                    "metadata": {},
                    "output_type": "execute_result"
                }
            ],
            "source": "test_count"
        },
        {
            "cell_type": "code",
            "execution_count": 26,
            "metadata": {},
            "outputs": [],
            "source": "df['ADDRTYPE'] = df['ADDRTYPE'].replace(['Block','Intersection','Alley'],['1','2','3'])"
        },
        {
            "cell_type": "code",
            "execution_count": 27,
            "metadata": {},
            "outputs": [],
            "source": "df['SEVERITYDESC'] = df['SEVERITYDESC'].replace(['Property Damage Only Collision','Injury Collision'],['1','2'])"
        },
        {
            "cell_type": "code",
            "execution_count": 28,
            "metadata": {},
            "outputs": [],
            "source": "df['COLLISIONTYPE'] = df['COLLISIONTYPE'].replace(['Parked Car','Angles','Rear Ended','Other','Sideswipe','Left Turn','Pedestrian','Cycles','RightTurn','Head On'],['1','2','3','4','5','6','7','8','9','10'])"
        },
        {
            "cell_type": "code",
            "execution_count": 29,
            "metadata": {},
            "outputs": [],
            "source": "df['WEATHER'] = df['WEATHER'].replace(['Clear','Raining','Overcast','Unknown','Snowing','Other','Fog/Smog/Smoke','Sleet/Hail/Freezing Rain','Blowing Sand/Dirt','Severe Crosswind','Partly Cloudy'],['1','2','3','4','5','6','7','8','9','10','11'])"
        },
        {
            "cell_type": "code",
            "execution_count": 30,
            "metadata": {},
            "outputs": [],
            "source": "df['ROADCOND'] = df['ROADCOND'].replace(['Dry','Wet','Unknown','Ice','Snow/Slush','Other','Standing Water','Sand/Mud dirt','Oil'],['1','2','3','4','5','6','7','8','9'])"
        },
        {
            "cell_type": "code",
            "execution_count": 31,
            "metadata": {},
            "outputs": [],
            "source": "df['LIGHTCOND'] = df['LIGHTCOND'].replace(['Daylight','Dark - Street Lights On','Unknown','Dusk','Dawn','Dark - No Street Lights','Dark - Street Lights Off','Other','Dark - Unknown Lighting'],['1','2','3','4','5','6','7','8','9'])"
        },
        {
            "cell_type": "code",
            "execution_count": 32,
            "metadata": {},
            "outputs": [],
            "source": "df['SPEEDING'] = df['SPEEDING'].replace(['Y'],['1'])"
        },
        {
            "cell_type": "code",
            "execution_count": 33,
            "metadata": {},
            "outputs": [],
            "source": "df['JUNCTIONTYPE'] = df['JUNCTIONTYPE'].replace(['Mid-Block (not related to intersection)','At Intersection (intersection related)','Mid-Block (but intersection related)','Driveway Junction','At Intersection (but not related to intersection)','Ramp Junction','Unknown'],['1','2','3','4','5','6','7'])"
        },
        {
            "cell_type": "code",
            "execution_count": 34,
            "metadata": {},
            "outputs": [
                {
                    "data": {
                        "text/html": "<div>\n<style scoped>\n    .dataframe tbody tr th:only-of-type {\n        vertical-align: middle;\n    }\n\n    .dataframe tbody tr th {\n        vertical-align: top;\n    }\n\n    .dataframe thead th {\n        text-align: right;\n    }\n</style>\n<table border=\"1\" class=\"dataframe\">\n  <thead>\n    <tr style=\"text-align: right;\">\n      <th></th>\n      <th>SEVERITYCODE</th>\n      <th>ADDRTYPE</th>\n      <th>SEVERITYDESC</th>\n      <th>COLLISIONTYPE</th>\n      <th>PERSONCOUNT</th>\n      <th>PEDCOUNT</th>\n      <th>PEDCYLCOUNT</th>\n      <th>VEHCOUNT</th>\n      <th>JUNCTIONTYPE</th>\n      <th>SDOT_COLCODE</th>\n      <th>WEATHER</th>\n      <th>ROADCOND</th>\n      <th>LIGHTCOND</th>\n      <th>SPEEDING</th>\n      <th>ST_COLCODE</th>\n      <th>SEGLANEKEY</th>\n      <th>CROSSWALKKEY</th>\n      <th>HITPARKEDCAR</th>\n    </tr>\n  </thead>\n  <tbody>\n    <tr>\n      <th>0</th>\n      <td>2</td>\n      <td>2</td>\n      <td>2</td>\n      <td>2</td>\n      <td>2</td>\n      <td>0</td>\n      <td>0</td>\n      <td>2</td>\n      <td>2</td>\n      <td>11</td>\n      <td>3</td>\n      <td>2</td>\n      <td>1</td>\n      <td>NaN</td>\n      <td>10</td>\n      <td>0</td>\n      <td>0</td>\n      <td>N</td>\n    </tr>\n    <tr>\n      <th>1</th>\n      <td>1</td>\n      <td>1</td>\n      <td>1</td>\n      <td>5</td>\n      <td>2</td>\n      <td>0</td>\n      <td>0</td>\n      <td>2</td>\n      <td>1</td>\n      <td>16</td>\n      <td>2</td>\n      <td>2</td>\n      <td>2</td>\n      <td>NaN</td>\n      <td>11</td>\n      <td>0</td>\n      <td>0</td>\n      <td>N</td>\n    </tr>\n    <tr>\n      <th>2</th>\n      <td>1</td>\n      <td>1</td>\n      <td>1</td>\n      <td>1</td>\n      <td>4</td>\n      <td>0</td>\n      <td>0</td>\n      <td>3</td>\n      <td>1</td>\n      <td>14</td>\n      <td>3</td>\n      <td>1</td>\n      <td>1</td>\n      <td>NaN</td>\n      <td>32</td>\n      <td>0</td>\n      <td>0</td>\n      <td>N</td>\n    </tr>\n    <tr>\n      <th>3</th>\n      <td>1</td>\n      <td>1</td>\n      <td>1</td>\n      <td>4</td>\n      <td>3</td>\n      <td>0</td>\n      <td>0</td>\n      <td>3</td>\n      <td>1</td>\n      <td>11</td>\n      <td>1</td>\n      <td>1</td>\n      <td>1</td>\n      <td>NaN</td>\n      <td>23</td>\n      <td>0</td>\n      <td>0</td>\n      <td>N</td>\n    </tr>\n    <tr>\n      <th>4</th>\n      <td>2</td>\n      <td>2</td>\n      <td>2</td>\n      <td>2</td>\n      <td>2</td>\n      <td>0</td>\n      <td>0</td>\n      <td>2</td>\n      <td>2</td>\n      <td>11</td>\n      <td>2</td>\n      <td>2</td>\n      <td>1</td>\n      <td>NaN</td>\n      <td>10</td>\n      <td>0</td>\n      <td>0</td>\n      <td>N</td>\n    </tr>\n  </tbody>\n</table>\n</div>",
                        "text/plain": "   SEVERITYCODE ADDRTYPE SEVERITYDESC COLLISIONTYPE  PERSONCOUNT  PEDCOUNT  \\\n0             2        2            2             2            2         0   \n1             1        1            1             5            2         0   \n2             1        1            1             1            4         0   \n3             1        1            1             4            3         0   \n4             2        2            2             2            2         0   \n\n   PEDCYLCOUNT  VEHCOUNT JUNCTIONTYPE  SDOT_COLCODE WEATHER ROADCOND  \\\n0            0         2            2            11       3        2   \n1            0         2            1            16       2        2   \n2            0         3            1            14       3        1   \n3            0         3            1            11       1        1   \n4            0         2            2            11       2        2   \n\n  LIGHTCOND SPEEDING ST_COLCODE  SEGLANEKEY  CROSSWALKKEY HITPARKEDCAR  \n0         1      NaN         10           0             0            N  \n1         2      NaN         11           0             0            N  \n2         1      NaN         32           0             0            N  \n3         1      NaN         23           0             0            N  \n4         1      NaN         10           0             0            N  "
                    },
                    "execution_count": 34,
                    "metadata": {},
                    "output_type": "execute_result"
                }
            ],
            "source": "df.head()"
        },
        {
            "cell_type": "code",
            "execution_count": 35,
            "metadata": {},
            "outputs": [
                {
                    "data": {
                        "text/html": "<div>\n<style scoped>\n    .dataframe tbody tr th:only-of-type {\n        vertical-align: middle;\n    }\n\n    .dataframe tbody tr th {\n        vertical-align: top;\n    }\n\n    .dataframe thead th {\n        text-align: right;\n    }\n</style>\n<table border=\"1\" class=\"dataframe\">\n  <thead>\n    <tr style=\"text-align: right;\">\n      <th></th>\n      <th>SEVERITYCODE</th>\n      <th>ADDRTYPE</th>\n      <th>SEVERITYDESC</th>\n      <th>COLLISIONTYPE</th>\n      <th>PERSONCOUNT</th>\n      <th>PEDCOUNT</th>\n      <th>PEDCYLCOUNT</th>\n      <th>VEHCOUNT</th>\n      <th>JUNCTIONTYPE</th>\n      <th>SDOT_COLCODE</th>\n      <th>WEATHER</th>\n      <th>ROADCOND</th>\n      <th>LIGHTCOND</th>\n      <th>SPEEDING</th>\n      <th>ST_COLCODE</th>\n      <th>SEGLANEKEY</th>\n      <th>CROSSWALKKEY</th>\n      <th>HITPARKEDCAR</th>\n    </tr>\n  </thead>\n  <tbody>\n    <tr>\n      <th>0</th>\n      <td>2</td>\n      <td>2</td>\n      <td>2</td>\n      <td>2</td>\n      <td>2</td>\n      <td>0</td>\n      <td>0</td>\n      <td>2</td>\n      <td>2</td>\n      <td>11</td>\n      <td>3</td>\n      <td>2</td>\n      <td>1</td>\n      <td>NaN</td>\n      <td>10</td>\n      <td>0</td>\n      <td>0</td>\n      <td>N</td>\n    </tr>\n    <tr>\n      <th>1</th>\n      <td>1</td>\n      <td>1</td>\n      <td>1</td>\n      <td>5</td>\n      <td>2</td>\n      <td>0</td>\n      <td>0</td>\n      <td>2</td>\n      <td>1</td>\n      <td>16</td>\n      <td>2</td>\n      <td>2</td>\n      <td>2</td>\n      <td>NaN</td>\n      <td>11</td>\n      <td>0</td>\n      <td>0</td>\n      <td>N</td>\n    </tr>\n    <tr>\n      <th>2</th>\n      <td>1</td>\n      <td>1</td>\n      <td>1</td>\n      <td>1</td>\n      <td>4</td>\n      <td>0</td>\n      <td>0</td>\n      <td>3</td>\n      <td>1</td>\n      <td>14</td>\n      <td>3</td>\n      <td>1</td>\n      <td>1</td>\n      <td>NaN</td>\n      <td>32</td>\n      <td>0</td>\n      <td>0</td>\n      <td>N</td>\n    </tr>\n    <tr>\n      <th>3</th>\n      <td>1</td>\n      <td>1</td>\n      <td>1</td>\n      <td>4</td>\n      <td>3</td>\n      <td>0</td>\n      <td>0</td>\n      <td>3</td>\n      <td>1</td>\n      <td>11</td>\n      <td>1</td>\n      <td>1</td>\n      <td>1</td>\n      <td>NaN</td>\n      <td>23</td>\n      <td>0</td>\n      <td>0</td>\n      <td>N</td>\n    </tr>\n    <tr>\n      <th>4</th>\n      <td>2</td>\n      <td>2</td>\n      <td>2</td>\n      <td>2</td>\n      <td>2</td>\n      <td>0</td>\n      <td>0</td>\n      <td>2</td>\n      <td>2</td>\n      <td>11</td>\n      <td>2</td>\n      <td>2</td>\n      <td>1</td>\n      <td>NaN</td>\n      <td>10</td>\n      <td>0</td>\n      <td>0</td>\n      <td>N</td>\n    </tr>\n  </tbody>\n</table>\n</div>",
                        "text/plain": "   SEVERITYCODE ADDRTYPE SEVERITYDESC COLLISIONTYPE  PERSONCOUNT  PEDCOUNT  \\\n0             2        2            2             2            2         0   \n1             1        1            1             5            2         0   \n2             1        1            1             1            4         0   \n3             1        1            1             4            3         0   \n4             2        2            2             2            2         0   \n\n   PEDCYLCOUNT  VEHCOUNT JUNCTIONTYPE  SDOT_COLCODE WEATHER ROADCOND  \\\n0            0         2            2            11       3        2   \n1            0         2            1            16       2        2   \n2            0         3            1            14       3        1   \n3            0         3            1            11       1        1   \n4            0         2            2            11       2        2   \n\n  LIGHTCOND SPEEDING ST_COLCODE  SEGLANEKEY  CROSSWALKKEY HITPARKEDCAR  \n0         1      NaN         10           0             0            N  \n1         2      NaN         11           0             0            N  \n2         1      NaN         32           0             0            N  \n3         1      NaN         23           0             0            N  \n4         1      NaN         10           0             0            N  "
                    },
                    "execution_count": 35,
                    "metadata": {},
                    "output_type": "execute_result"
                }
            ],
            "source": "df.head()"
        },
        {
            "cell_type": "code",
            "execution_count": 36,
            "metadata": {},
            "outputs": [],
            "source": "# Dropped the NaN in the SPEEDING label"
        },
        {
            "cell_type": "code",
            "execution_count": 37,
            "metadata": {},
            "outputs": [],
            "source": "df.dropna(subset=['SPEEDING'], axis=0, inplace=True)"
        },
        {
            "cell_type": "code",
            "execution_count": 38,
            "metadata": {},
            "outputs": [
                {
                    "data": {
                        "text/html": "<div>\n<style scoped>\n    .dataframe tbody tr th:only-of-type {\n        vertical-align: middle;\n    }\n\n    .dataframe tbody tr th {\n        vertical-align: top;\n    }\n\n    .dataframe thead th {\n        text-align: right;\n    }\n</style>\n<table border=\"1\" class=\"dataframe\">\n  <thead>\n    <tr style=\"text-align: right;\">\n      <th></th>\n      <th>SEVERITYCODE</th>\n      <th>ADDRTYPE</th>\n      <th>SEVERITYDESC</th>\n      <th>COLLISIONTYPE</th>\n      <th>PERSONCOUNT</th>\n      <th>PEDCOUNT</th>\n      <th>PEDCYLCOUNT</th>\n      <th>VEHCOUNT</th>\n      <th>JUNCTIONTYPE</th>\n      <th>SDOT_COLCODE</th>\n      <th>WEATHER</th>\n      <th>ROADCOND</th>\n      <th>LIGHTCOND</th>\n      <th>SPEEDING</th>\n      <th>ST_COLCODE</th>\n      <th>SEGLANEKEY</th>\n      <th>CROSSWALKKEY</th>\n      <th>HITPARKEDCAR</th>\n    </tr>\n  </thead>\n  <tbody>\n    <tr>\n      <th>24</th>\n      <td>2</td>\n      <td>2</td>\n      <td>2</td>\n      <td>3</td>\n      <td>3</td>\n      <td>0</td>\n      <td>0</td>\n      <td>2</td>\n      <td>2</td>\n      <td>14</td>\n      <td>1</td>\n      <td>1</td>\n      <td>1</td>\n      <td>1</td>\n      <td>14</td>\n      <td>0</td>\n      <td>0</td>\n      <td>N</td>\n    </tr>\n    <tr>\n      <th>43</th>\n      <td>2</td>\n      <td>1</td>\n      <td>2</td>\n      <td>4</td>\n      <td>1</td>\n      <td>0</td>\n      <td>0</td>\n      <td>1</td>\n      <td>1</td>\n      <td>28</td>\n      <td>2</td>\n      <td>2</td>\n      <td>2</td>\n      <td>1</td>\n      <td>50</td>\n      <td>0</td>\n      <td>0</td>\n      <td>N</td>\n    </tr>\n    <tr>\n      <th>62</th>\n      <td>1</td>\n      <td>1</td>\n      <td>1</td>\n      <td>1</td>\n      <td>4</td>\n      <td>0</td>\n      <td>0</td>\n      <td>4</td>\n      <td>3</td>\n      <td>14</td>\n      <td>1</td>\n      <td>1</td>\n      <td>1</td>\n      <td>1</td>\n      <td>32</td>\n      <td>0</td>\n      <td>0</td>\n      <td>N</td>\n    </tr>\n    <tr>\n      <th>123</th>\n      <td>1</td>\n      <td>1</td>\n      <td>1</td>\n      <td>3</td>\n      <td>2</td>\n      <td>0</td>\n      <td>0</td>\n      <td>2</td>\n      <td>1</td>\n      <td>14</td>\n      <td>2</td>\n      <td>2</td>\n      <td>1</td>\n      <td>1</td>\n      <td>14</td>\n      <td>0</td>\n      <td>0</td>\n      <td>N</td>\n    </tr>\n    <tr>\n      <th>124</th>\n      <td>2</td>\n      <td>2</td>\n      <td>2</td>\n      <td>2</td>\n      <td>2</td>\n      <td>0</td>\n      <td>0</td>\n      <td>2</td>\n      <td>2</td>\n      <td>14</td>\n      <td>1</td>\n      <td>1</td>\n      <td>1</td>\n      <td>1</td>\n      <td>10</td>\n      <td>0</td>\n      <td>0</td>\n      <td>N</td>\n    </tr>\n  </tbody>\n</table>\n</div>",
                        "text/plain": "     SEVERITYCODE ADDRTYPE SEVERITYDESC COLLISIONTYPE  PERSONCOUNT  PEDCOUNT  \\\n24              2        2            2             3            3         0   \n43              2        1            2             4            1         0   \n62              1        1            1             1            4         0   \n123             1        1            1             3            2         0   \n124             2        2            2             2            2         0   \n\n     PEDCYLCOUNT  VEHCOUNT JUNCTIONTYPE  SDOT_COLCODE WEATHER ROADCOND  \\\n24             0         2            2            14       1        1   \n43             0         1            1            28       2        2   \n62             0         4            3            14       1        1   \n123            0         2            1            14       2        2   \n124            0         2            2            14       1        1   \n\n    LIGHTCOND SPEEDING ST_COLCODE  SEGLANEKEY  CROSSWALKKEY HITPARKEDCAR  \n24          1        1         14           0             0            N  \n43          2        1         50           0             0            N  \n62          1        1         32           0             0            N  \n123         1        1         14           0             0            N  \n124         1        1         10           0             0            N  "
                    },
                    "execution_count": 38,
                    "metadata": {},
                    "output_type": "execute_result"
                }
            ],
            "source": "df.head()"
        },
        {
            "cell_type": "code",
            "execution_count": 39,
            "metadata": {},
            "outputs": [
                {
                    "data": {
                        "text/html": "<div>\n<style scoped>\n    .dataframe tbody tr th:only-of-type {\n        vertical-align: middle;\n    }\n\n    .dataframe tbody tr th {\n        vertical-align: top;\n    }\n\n    .dataframe thead th {\n        text-align: right;\n    }\n</style>\n<table border=\"1\" class=\"dataframe\">\n  <thead>\n    <tr style=\"text-align: right;\">\n      <th></th>\n      <th>SEVERITYCODE</th>\n      <th>ADDRTYPE</th>\n      <th>SEVERITYDESC</th>\n      <th>COLLISIONTYPE</th>\n      <th>PERSONCOUNT</th>\n      <th>PEDCOUNT</th>\n      <th>PEDCYLCOUNT</th>\n      <th>VEHCOUNT</th>\n      <th>JUNCTIONTYPE</th>\n      <th>SDOT_COLCODE</th>\n      <th>WEATHER</th>\n      <th>ROADCOND</th>\n      <th>LIGHTCOND</th>\n      <th>SPEEDING</th>\n      <th>ST_COLCODE</th>\n      <th>SEGLANEKEY</th>\n      <th>CROSSWALKKEY</th>\n      <th>HITPARKEDCAR</th>\n    </tr>\n  </thead>\n  <tbody>\n    <tr>\n      <th>24</th>\n      <td>False</td>\n      <td>False</td>\n      <td>False</td>\n      <td>False</td>\n      <td>False</td>\n      <td>False</td>\n      <td>False</td>\n      <td>False</td>\n      <td>False</td>\n      <td>False</td>\n      <td>False</td>\n      <td>False</td>\n      <td>False</td>\n      <td>False</td>\n      <td>False</td>\n      <td>False</td>\n      <td>False</td>\n      <td>False</td>\n    </tr>\n    <tr>\n      <th>43</th>\n      <td>False</td>\n      <td>False</td>\n      <td>False</td>\n      <td>False</td>\n      <td>False</td>\n      <td>False</td>\n      <td>False</td>\n      <td>False</td>\n      <td>False</td>\n      <td>False</td>\n      <td>False</td>\n      <td>False</td>\n      <td>False</td>\n      <td>False</td>\n      <td>False</td>\n      <td>False</td>\n      <td>False</td>\n      <td>False</td>\n    </tr>\n    <tr>\n      <th>62</th>\n      <td>False</td>\n      <td>False</td>\n      <td>False</td>\n      <td>False</td>\n      <td>False</td>\n      <td>False</td>\n      <td>False</td>\n      <td>False</td>\n      <td>False</td>\n      <td>False</td>\n      <td>False</td>\n      <td>False</td>\n      <td>False</td>\n      <td>False</td>\n      <td>False</td>\n      <td>False</td>\n      <td>False</td>\n      <td>False</td>\n    </tr>\n    <tr>\n      <th>123</th>\n      <td>False</td>\n      <td>False</td>\n      <td>False</td>\n      <td>False</td>\n      <td>False</td>\n      <td>False</td>\n      <td>False</td>\n      <td>False</td>\n      <td>False</td>\n      <td>False</td>\n      <td>False</td>\n      <td>False</td>\n      <td>False</td>\n      <td>False</td>\n      <td>False</td>\n      <td>False</td>\n      <td>False</td>\n      <td>False</td>\n    </tr>\n    <tr>\n      <th>124</th>\n      <td>False</td>\n      <td>False</td>\n      <td>False</td>\n      <td>False</td>\n      <td>False</td>\n      <td>False</td>\n      <td>False</td>\n      <td>False</td>\n      <td>False</td>\n      <td>False</td>\n      <td>False</td>\n      <td>False</td>\n      <td>False</td>\n      <td>False</td>\n      <td>False</td>\n      <td>False</td>\n      <td>False</td>\n      <td>False</td>\n    </tr>\n  </tbody>\n</table>\n</div>",
                        "text/plain": "     SEVERITYCODE  ADDRTYPE  SEVERITYDESC  COLLISIONTYPE  PERSONCOUNT  \\\n24          False     False         False          False        False   \n43          False     False         False          False        False   \n62          False     False         False          False        False   \n123         False     False         False          False        False   \n124         False     False         False          False        False   \n\n     PEDCOUNT  PEDCYLCOUNT  VEHCOUNT  JUNCTIONTYPE  SDOT_COLCODE  WEATHER  \\\n24      False        False     False         False         False    False   \n43      False        False     False         False         False    False   \n62      False        False     False         False         False    False   \n123     False        False     False         False         False    False   \n124     False        False     False         False         False    False   \n\n     ROADCOND  LIGHTCOND  SPEEDING  ST_COLCODE  SEGLANEKEY  CROSSWALKKEY  \\\n24      False      False     False       False       False         False   \n43      False      False     False       False       False         False   \n62      False      False     False       False       False         False   \n123     False      False     False       False       False         False   \n124     False      False     False       False       False         False   \n\n     HITPARKEDCAR  \n24          False  \n43          False  \n62          False  \n123         False  \n124         False  "
                    },
                    "execution_count": 39,
                    "metadata": {},
                    "output_type": "execute_result"
                }
            ],
            "source": "missing_data = df.isnull()\nmissing_data.head(5)"
        },
        {
            "cell_type": "code",
            "execution_count": 40,
            "metadata": {},
            "outputs": [],
            "source": "# Data set looks more balanced"
        },
        {
            "cell_type": "code",
            "execution_count": 41,
            "metadata": {},
            "outputs": [
                {
                    "name": "stdout",
                    "output_type": "stream",
                    "text": "SEVERITYCODE\nFalse    9333\nName: SEVERITYCODE, dtype: int64\n\nADDRTYPE\nFalse    9279\nTrue       54\nName: ADDRTYPE, dtype: int64\n\nSEVERITYDESC\nFalse    9333\nName: SEVERITYDESC, dtype: int64\n\nCOLLISIONTYPE\nFalse    9332\nTrue        1\nName: COLLISIONTYPE, dtype: int64\n\nPERSONCOUNT\nFalse    9333\nName: PERSONCOUNT, dtype: int64\n\nPEDCOUNT\nFalse    9333\nName: PEDCOUNT, dtype: int64\n\nPEDCYLCOUNT\nFalse    9333\nName: PEDCYLCOUNT, dtype: int64\n\nVEHCOUNT\nFalse    9333\nName: VEHCOUNT, dtype: int64\n\nJUNCTIONTYPE\nFalse    9223\nTrue      110\nName: JUNCTIONTYPE, dtype: int64\n\nSDOT_COLCODE\nFalse    9333\nName: SDOT_COLCODE, dtype: int64\n\nWEATHER\nFalse    9325\nTrue        8\nName: WEATHER, dtype: int64\n\nROADCOND\nFalse    9330\nTrue        3\nName: ROADCOND, dtype: int64\n\nLIGHTCOND\nFalse    9328\nTrue        5\nName: LIGHTCOND, dtype: int64\n\nSPEEDING\nFalse    9333\nName: SPEEDING, dtype: int64\n\nST_COLCODE\nFalse    9332\nTrue        1\nName: ST_COLCODE, dtype: int64\n\nSEGLANEKEY\nFalse    9333\nName: SEGLANEKEY, dtype: int64\n\nCROSSWALKKEY\nFalse    9333\nName: CROSSWALKKEY, dtype: int64\n\nHITPARKEDCAR\nFalse    9333\nName: HITPARKEDCAR, dtype: int64\n\n"
                }
            ],
            "source": "for column in missing_data.columns.values.tolist():\n    print(column)\n    print (missing_data[column].value_counts())\n    print(\"\")    "
        },
        {
            "cell_type": "code",
            "execution_count": null,
            "metadata": {},
            "outputs": [],
            "source": ""
        }
    ],
    "metadata": {
        "kernelspec": {
            "display_name": "Python 3.6",
            "language": "python",
            "name": "python3"
        },
        "language_info": {
            "codemirror_mode": {
                "name": "ipython",
                "version": 3
            },
            "file_extension": ".py",
            "mimetype": "text/x-python",
            "name": "python",
            "nbconvert_exporter": "python",
            "pygments_lexer": "ipython3",
            "version": "3.6.9"
        }
    },
    "nbformat": 4,
    "nbformat_minor": 1
}